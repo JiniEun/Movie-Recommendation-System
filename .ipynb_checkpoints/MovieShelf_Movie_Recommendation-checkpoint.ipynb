{
 "cells": [
  {
   "cell_type": "code",
   "execution_count": 2,
   "metadata": {
    "colab": {
     "base_uri": "https://localhost:8080/"
    },
    "executionInfo": {
     "elapsed": 1965,
     "status": "ok",
     "timestamp": 1648977124515,
     "user": {
      "displayName": "jules",
      "userId": "12208415302948668058"
     },
     "user_tz": -540
    },
    "id": "QAjdgNptZ2bY",
    "outputId": "f4fc4c71-2336-4460-8a30-71d703e29c4b"
   },
   "outputs": [
    {
     "ename": "ModuleNotFoundError",
     "evalue": "No module named 'plotly'",
     "output_type": "error",
     "traceback": [
      "\u001b[0;31m---------------------------------------------------------------------------\u001b[0m",
      "\u001b[0;31mModuleNotFoundError\u001b[0m                       Traceback (most recent call last)",
      "\u001b[0;32m<ipython-input-2-f90809cbceed>\u001b[0m in \u001b[0;36m<module>\u001b[0;34m\u001b[0m\n\u001b[1;32m     17\u001b[0m \u001b[0;32mfrom\u001b[0m \u001b[0msklearn\u001b[0m\u001b[0;34m.\u001b[0m\u001b[0mmetrics\u001b[0m\u001b[0;34m.\u001b[0m\u001b[0mpairwise\u001b[0m \u001b[0;32mimport\u001b[0m \u001b[0mlinear_kernel\u001b[0m\u001b[0;34m,\u001b[0m \u001b[0mcosine_similarity\u001b[0m\u001b[0;34m\u001b[0m\u001b[0;34m\u001b[0m\u001b[0m\n\u001b[1;32m     18\u001b[0m \u001b[0;32mfrom\u001b[0m \u001b[0msklearn\u001b[0m\u001b[0;34m.\u001b[0m\u001b[0mfeature_extraction\u001b[0m\u001b[0;34m.\u001b[0m\u001b[0mtext\u001b[0m \u001b[0;32mimport\u001b[0m \u001b[0mTfidfVectorizer\u001b[0m\u001b[0;34m,\u001b[0m \u001b[0mCountVectorizer\u001b[0m\u001b[0;34m\u001b[0m\u001b[0;34m\u001b[0m\u001b[0m\n\u001b[0;32m---> 19\u001b[0;31m \u001b[0;32mimport\u001b[0m \u001b[0mplotly\u001b[0m\u001b[0;34m\u001b[0m\u001b[0;34m\u001b[0m\u001b[0m\n\u001b[0m\u001b[1;32m     20\u001b[0m \u001b[0;32mimport\u001b[0m \u001b[0mplotly\u001b[0m\u001b[0;34m.\u001b[0m\u001b[0mio\u001b[0m \u001b[0;32mas\u001b[0m \u001b[0mpio\u001b[0m\u001b[0;34m\u001b[0m\u001b[0;34m\u001b[0m\u001b[0m\n\u001b[1;32m     21\u001b[0m \u001b[0;32mfrom\u001b[0m \u001b[0mos\u001b[0m \u001b[0;32mimport\u001b[0m \u001b[0mpath\u001b[0m\u001b[0;34m\u001b[0m\u001b[0;34m\u001b[0m\u001b[0m\n",
      "\u001b[0;31mModuleNotFoundError\u001b[0m: No module named 'plotly'"
     ]
    }
   ],
   "source": [
    "# import libraries\n",
    "\n",
    "import re\n",
    "import nltk\n",
    "import warnings\n",
    "import numpy as np\n",
    "import pandas as pd\n",
    "import seaborn as sns\n",
    "from ast import literal_eval\n",
    "import matplotlib.pyplot as plt\n",
    "import matplotlib.ticker as ticker\n",
    "from matplotlib.font_manager import FontProperties\n",
    "from nltk.corpus import wordnet\n",
    "from nltk.corpus import stopwords\n",
    "from nltk.stem import WordNetLemmatizer\n",
    "from sklearn.cluster import KMeans\n",
    "from sklearn.metrics.pairwise import linear_kernel, cosine_similarity\n",
    "from sklearn.feature_extraction.text import TfidfVectorizer, CountVectorizer\n",
    "import plotly\n",
    "import plotly.io as pio\n",
    "from os import path\n",
    "from PIL import Image\n",
    "import plotly.graph_objs as go\n",
    "from plotly.offline import iplot, init_notebook_mode\n",
    "from wordcloud import WordCloud, STOPWORDS, ImageColorGenerator\n",
    "\n",
    "%matplotlib inline\n",
    "warnings.simplefilter('ignore')\n",
    "pd.set_option('display.max_columns', 50)\n",
    "\n",
    "nltk.download('stopwords')\n",
    "nltk.download('punkt')\n",
    "nltk.download('averaged_perceptron_tagger')\n",
    "nltk.download('wordnet')"
   ]
  },
  {
   "cell_type": "markdown",
   "metadata": {
    "id": "iUhjt6QoARMT"
   },
   "source": [
    "## google drive mount -> for read file in colab"
   ]
  },
  {
   "cell_type": "code",
   "execution_count": null,
   "metadata": {
    "colab": {
     "base_uri": "https://localhost:8080/"
    },
    "executionInfo": {
     "elapsed": 2497,
     "status": "ok",
     "timestamp": 1648977127001,
     "user": {
      "displayName": "jules",
      "userId": "12208415302948668058"
     },
     "user_tz": -540
    },
    "id": "xEJ1QZr5_lTn",
    "outputId": "6941c9b4-f3a1-4ed9-e273-514c1f14d6f3"
   },
   "outputs": [],
   "source": [
    "from google.colab import drive\n",
    "drive.mount('/content/drive')"
   ]
  },
  {
   "cell_type": "code",
   "execution_count": null,
   "metadata": {
    "executionInfo": {
     "elapsed": 5552,
     "status": "ok",
     "timestamp": 1648977132550,
     "user": {
      "displayName": "jules",
      "userId": "12208415302948668058"
     },
     "user_tz": -540
    },
    "id": "5u5gm1xnAVSO"
   },
   "outputs": [],
   "source": [
    "path_metadata = '/content/drive/MyDrive/Colab Notebooks/archive/movies_metadata.csv'\n",
    "path_credits = '/content/drive/MyDrive/Colab Notebooks/archive/credits.csv'\n",
    "path_keyword = '/content/drive/MyDrive/Colab Notebooks/archive/keywords.csv'"
   ]
  },
  {
   "cell_type": "markdown",
   "metadata": {},
   "source": [
    "Jupyter Notebook"
   ]
  },
  {
   "cell_type": "code",
   "execution_count": null,
   "metadata": {},
   "outputs": [],
   "source": [
    "path_metadata = '/Users/jules/Projects/Projects/lib/archive_movie_dataset/movies_metadata.csv'\n",
    "path_credits = '/Users/jules/Projects/Projects/lib/archive_movie_dataset/credits.csv'\n",
    "path_keyword = '/Users/jules/Projects/Projects/lib/archive_movie_dataset/keywords.csv'"
   ]
  },
  {
   "cell_type": "code",
   "execution_count": null,
   "metadata": {},
   "outputs": [],
   "source": [
    "#Loading the datasets\n",
    "#metadata of the movies\n",
    "md = pd.read_csv(path_metadata)\n",
    "#movie credits\n",
    "credits = pd.read_csv(path_credits) \n",
    "#movie keywords\n",
    "keywords = pd.read_csv(path_keyword) "
   ]
  },
  {
   "cell_type": "markdown",
   "metadata": {
    "id": "a-AF5zT4eHF_"
   },
   "source": [
    "### credits.csv"
   ]
  },
  {
   "cell_type": "code",
   "execution_count": null,
   "metadata": {
    "colab": {
     "base_uri": "https://localhost:8080/",
     "height": 206
    },
    "executionInfo": {
     "elapsed": 15,
     "status": "ok",
     "timestamp": 1648977132551,
     "user": {
      "displayName": "jules",
      "userId": "12208415302948668058"
     },
     "user_tz": -540
    },
    "id": "V4BDpb43dHzf",
    "outputId": "38780c7d-d320-4e29-f64b-23574b054b51"
   },
   "outputs": [],
   "source": [
    "# Check the head of the data\n",
    "# credits\n",
    "credits.head()"
   ]
  },
  {
   "cell_type": "code",
   "execution_count": null,
   "metadata": {
    "executionInfo": {
     "elapsed": 36464,
     "status": "ok",
     "timestamp": 1648977169011,
     "user": {
      "displayName": "jules",
      "userId": "12208415302948668058"
     },
     "user_tz": -540
    },
    "id": "TDB376lldizE"
   },
   "outputs": [],
   "source": [
    "#Converting the string into list of dictionaries\n",
    "credits.cast = credits.cast.apply(literal_eval)\n",
    "credits.crew = credits.crew.apply(literal_eval)"
   ]
  },
  {
   "cell_type": "code",
   "execution_count": null,
   "metadata": {
    "executionInfo": {
     "elapsed": 721,
     "status": "ok",
     "timestamp": 1648977169710,
     "user": {
      "displayName": "jules",
      "userId": "12208415302948668058"
     },
     "user_tz": -540
    },
    "id": "uPUX7XsadpPG"
   },
   "outputs": [],
   "source": [
    "# Extracting the Casts into a list from Dictionaries\n",
    "credits['cast'] = credits['cast'].apply(lambda x: [i['name'] for i in x] if isinstance(x, list) else [])"
   ]
  },
  {
   "cell_type": "code",
   "execution_count": null,
   "metadata": {
    "executionInfo": {
     "elapsed": 11,
     "status": "ok",
     "timestamp": 1648977169711,
     "user": {
      "displayName": "jules",
      "userId": "12208415302948668058"
     },
     "user_tz": -540
    },
    "id": "C_HRmTwBdpMt"
   },
   "outputs": [],
   "source": [
    "# Extracting_Crew 에서 director \n",
    "def extract_director(x):\n",
    "    for crew_mem in x:\n",
    "        if crew_mem['job'] == 'Director':\n",
    "            return crew_mem['name']\n",
    "        else:\n",
    "            return np.nan\n",
    "\n",
    "credits['director'] = credits['crew'].apply(extract_director)\n",
    "credits['director'].fillna('',inplace = True)"
   ]
  },
  {
   "cell_type": "code",
   "execution_count": null,
   "metadata": {
    "colab": {
     "base_uri": "https://localhost:8080/",
     "height": 206
    },
    "executionInfo": {
     "elapsed": 9,
     "status": "ok",
     "timestamp": 1648977169711,
     "user": {
      "displayName": "jules",
      "userId": "12208415302948668058"
     },
     "user_tz": -540
    },
    "id": "MacNMyU9dpJ1",
    "outputId": "7e7ebaac-7ac0-42ab-b0c3-3f839e4b21a1"
   },
   "outputs": [],
   "source": [
    "credits.drop(['crew'],axis = 1,inplace = True)\n",
    "credits.head()"
   ]
  },
  {
   "cell_type": "markdown",
   "metadata": {
    "id": "VLUbJ4queJ8z"
   },
   "source": [
    "### keywords.csv"
   ]
  },
  {
   "cell_type": "code",
   "execution_count": null,
   "metadata": {
    "colab": {
     "base_uri": "https://localhost:8080/",
     "height": 206
    },
    "executionInfo": {
     "elapsed": 8,
     "status": "ok",
     "timestamp": 1648977169712,
     "user": {
      "displayName": "jules",
      "userId": "12208415302948668058"
     },
     "user_tz": -540
    },
    "id": "oNjHrzV1dpGu",
    "outputId": "d443898a-bfa2-4d0a-9997-20410bab04be"
   },
   "outputs": [],
   "source": [
    "keywords.head()"
   ]
  },
  {
   "cell_type": "code",
   "execution_count": null,
   "metadata": {
    "executionInfo": {
     "elapsed": 2099,
     "status": "ok",
     "timestamp": 1648977171804,
     "user": {
      "displayName": "jules",
      "userId": "12208415302948668058"
     },
     "user_tz": -540
    },
    "id": "0eXlR4S8ePWq"
   },
   "outputs": [],
   "source": [
    "#Converting the string into list of dictionaries\n",
    "keywords.keywords = keywords.keywords.apply(literal_eval)"
   ]
  },
  {
   "cell_type": "code",
   "execution_count": null,
   "metadata": {
    "colab": {
     "base_uri": "https://localhost:8080/",
     "height": 206
    },
    "executionInfo": {
     "elapsed": 11,
     "status": "ok",
     "timestamp": 1648977171806,
     "user": {
      "displayName": "jules",
      "userId": "12208415302948668058"
     },
     "user_tz": -540
    },
    "id": "yY1cZ85BePUT",
    "outputId": "8d9eb19c-ba23-4799-f576-089a86f2a3c0"
   },
   "outputs": [],
   "source": [
    "# Extracting the Keywords into a list from Dictionaries\n",
    "keywords['keywords'] = keywords['keywords'].apply(lambda x: [i['name'] for i in x] if isinstance(x, list) else [])\n",
    "keywords.head()"
   ]
  },
  {
   "cell_type": "markdown",
   "metadata": {
    "id": "uw1OkxzTeg-3"
   },
   "source": [
    "### movies_metadata.csv"
   ]
  },
  {
   "cell_type": "code",
   "execution_count": null,
   "metadata": {
    "colab": {
     "base_uri": "https://localhost:8080/",
     "height": 687
    },
    "executionInfo": {
     "elapsed": 9,
     "status": "ok",
     "timestamp": 1648977171808,
     "user": {
      "displayName": "jules",
      "userId": "12208415302948668058"
     },
     "user_tz": -540
    },
    "id": "toHleArDePRt",
    "outputId": "88e80ef4-20d7-40da-ecd3-674e2f1b5375"
   },
   "outputs": [],
   "source": [
    "md.head()"
   ]
  },
  {
   "cell_type": "code",
   "execution_count": null,
   "metadata": {
    "colab": {
     "base_uri": "https://localhost:8080/",
     "height": 493
    },
    "executionInfo": {
     "elapsed": 711,
     "status": "ok",
     "timestamp": 1648977172511,
     "user": {
      "displayName": "jules",
      "userId": "12208415302948668058"
     },
     "user_tz": -540
    },
    "id": "9wn6X_IEelzc",
    "outputId": "1a0a4627-4528-418b-d2d1-c937f7e0e348"
   },
   "outputs": [],
   "source": [
    "md.describe(include = 'all')"
   ]
  },
  {
   "cell_type": "code",
   "execution_count": null,
   "metadata": {
    "colab": {
     "base_uri": "https://localhost:8080/",
     "height": 416
    },
    "executionInfo": {
     "elapsed": 8,
     "status": "ok",
     "timestamp": 1648977172511,
     "user": {
      "displayName": "jules",
      "userId": "12208415302948668058"
     },
     "user_tz": -540
    },
    "id": "PW1TMdoVelwl",
    "outputId": "050f7254-82c1-49c9-b61f-d6235c457283"
   },
   "outputs": [],
   "source": [
    "md[(md.adult != \"True\") & (md.adult != \"False\")]"
   ]
  },
  {
   "cell_type": "markdown",
   "metadata": {
    "id": "vgsRp2_7e5bt"
   },
   "source": [
    "위 세 편의 영화는 여러 칼럼들 사이에 데이터가 뒤죽박죽으로 섞여 있다. \n",
    "예를 들어 성인 열에는 개요가 포함되고 개요 열에는 상태 등이 포함되지만, 실제로 데이터는 두 개의 지수로 나눠져 있다. 따라서 데이터를 단일 인덱스로 결합하고 이후 인덱스를 삭제."
   ]
  },
  {
   "cell_type": "code",
   "execution_count": null,
   "metadata": {
    "executionInfo": {
     "elapsed": 6,
     "status": "ok",
     "timestamp": 1648977172511,
     "user": {
      "displayName": "jules",
      "userId": "12208415302948668058"
     },
     "user_tz": -540
    },
    "id": "LOMLzJAdelt_"
   },
   "outputs": [],
   "source": [
    "idx = [19729,29502,35586]\n",
    "lst_1 = ['popularity', 'poster_path', 'production_companies','production_countries', 'release_date', 'revenue',\n",
    "         'runtime', 'spoken_languages', 'status', 'tagline', 'title', 'video', 'vote_average', 'vote_count']\n",
    "lst_2 = ['belongs_to_collection', 'budget', 'genres', 'homepage', 'id', 'imdb_id', 'original_language', 'original_title', \n",
    "         'overview','popularity', 'poster_path', 'production_companies','production_countries', 'release_date']\n",
    "for i in idx:\n",
    "    for col_seq in range(len(lst_1)):\n",
    "            md[lst_1[col_seq]][i] = md[lst_2[col_seq]][i+1]"
   ]
  },
  {
   "cell_type": "code",
   "execution_count": null,
   "metadata": {
    "executionInfo": {
     "elapsed": 5,
     "status": "ok",
     "timestamp": 1648977172511,
     "user": {
      "displayName": "jules",
      "userId": "12208415302948668058"
     },
     "user_tz": -540
    },
    "id": "r7gs33AjfCU_"
   },
   "outputs": [],
   "source": [
    "idx = [x+1 for x in idx]\n",
    "md.drop(index = idx,inplace = True)"
   ]
  },
  {
   "cell_type": "code",
   "execution_count": null,
   "metadata": {
    "executionInfo": {
     "elapsed": 5,
     "status": "ok",
     "timestamp": 1648977172511,
     "user": {
      "displayName": "jules",
      "userId": "12208415302948668058"
     },
     "user_tz": -540
    },
    "id": "cTalTY3-fEpr"
   },
   "outputs": [],
   "source": [
    "md.adult = md.adult.apply(lambda x : True if (x == 'True') else False)"
   ]
  },
  {
   "cell_type": "markdown",
   "metadata": {
    "id": "EgpiVQDnfM62"
   },
   "source": [
    "장르 - 변환"
   ]
  },
  {
   "cell_type": "code",
   "execution_count": null,
   "metadata": {
    "executionInfo": {
     "elapsed": 1758,
     "status": "ok",
     "timestamp": 1648977174265,
     "user": {
      "displayName": "jules",
      "userId": "12208415302948668058"
     },
     "user_tz": -540
    },
    "id": "lZbC6124fIGg"
   },
   "outputs": [],
   "source": [
    "# Extracting the Genres into a list from Dictionaris\n",
    "md['genres'] = md['genres'].fillna('[]').apply(literal_eval).apply(lambda x: [i['name'] for i in x] if isinstance(x, list) else [])"
   ]
  },
  {
   "cell_type": "code",
   "execution_count": null,
   "metadata": {
    "executionInfo": {
     "elapsed": 9,
     "status": "ok",
     "timestamp": 1648977174268,
     "user": {
      "displayName": "jules",
      "userId": "12208415302948668058"
     },
     "user_tz": -540
    },
    "id": "cxdH4wRIfRg2"
   },
   "outputs": [],
   "source": [
    "# Dropping Duplicates \n",
    "credits.drop_duplicates('id',inplace = True)\n",
    "keywords.drop_duplicates('id',inplace = True)\n",
    "md.drop_duplicates('id',inplace = True)"
   ]
  },
  {
   "cell_type": "code",
   "execution_count": null,
   "metadata": {
    "executionInfo": {
     "elapsed": 7,
     "status": "ok",
     "timestamp": 1648977174268,
     "user": {
      "displayName": "jules",
      "userId": "12208415302948668058"
     },
     "user_tz": -540
    },
    "id": "51eiGLoNfRYy"
   },
   "outputs": [],
   "source": [
    "#Converting IDs into same data type\n",
    "md.id = md.id.astype(int)"
   ]
  },
  {
   "cell_type": "markdown",
   "metadata": {
    "id": "XFyWsNcSeQCr"
   },
   "source": [
    "### Merge movie metadata + credits + keyword"
   ]
  },
  {
   "cell_type": "code",
   "execution_count": null,
   "metadata": {
    "colab": {
     "base_uri": "https://localhost:8080/",
     "height": 791
    },
    "executionInfo": {
     "elapsed": 7,
     "status": "ok",
     "timestamp": 1648977174268,
     "user": {
      "displayName": "jules",
      "userId": "12208415302948668058"
     },
     "user_tz": -540
    },
    "id": "4SRoUyRLdUWW",
    "outputId": "3963f9a6-2012-46c6-cb0c-eaa0999e8bab"
   },
   "outputs": [],
   "source": [
    "#Merging DataFrames into one\n",
    "md = md.merge(credits, on = 'id', how = 'left')\n",
    "md = md.merge(keywords, on = 'id', how = 'left')\n",
    "md.head()"
   ]
  },
  {
   "cell_type": "markdown",
   "metadata": {
    "id": "DlZwnzhmfeKv"
   },
   "source": [
    "필요한 열 선택하기"
   ]
  },
  {
   "cell_type": "code",
   "execution_count": null,
   "metadata": {
    "colab": {
     "base_uri": "https://localhost:8080/",
     "height": 1000
    },
    "executionInfo": {
     "elapsed": 6,
     "status": "ok",
     "timestamp": 1648977174269,
     "user": {
      "displayName": "jules",
      "userId": "12208415302948668058"
     },
     "user_tz": -540
    },
    "id": "5ZcJcH53ffpB",
    "outputId": "785fdc10-e04e-4548-c219-41a7ebe7361d"
   },
   "outputs": [],
   "source": [
    "# Selecting required columns from the master dataframe\n",
    "movies = md[['id','original_title','title','cast', 'director', 'keywords', 'genres', 'release_date', 'overview', \n",
    "             'original_language', 'adult', 'runtime', 'tagline', 'vote_average', 'vote_count','popularity']]\n",
    "movies.head(30)"
   ]
  },
  {
   "cell_type": "code",
   "execution_count": null,
   "metadata": {
    "colab": {
     "base_uri": "https://localhost:8080/"
    },
    "executionInfo": {
     "elapsed": 738,
     "status": "ok",
     "timestamp": 1648977175002,
     "user": {
      "displayName": "jules",
      "userId": "12208415302948668058"
     },
     "user_tz": -540
    },
    "id": "yOJNfN6ffoIU",
    "outputId": "ced2e5fd-0eb6-460d-ab30-5aaeb2df2bba"
   },
   "outputs": [],
   "source": [
    "# Missing Value\n",
    "movies.isna().sum()"
   ]
  },
  {
   "cell_type": "markdown",
   "metadata": {
    "id": "yoe5kYmwfqsk"
   },
   "source": [
    "null value 제거"
   ]
  },
  {
   "cell_type": "code",
   "execution_count": null,
   "metadata": {
    "executionInfo": {
     "elapsed": 15,
     "status": "ok",
     "timestamp": 1648977175002,
     "user": {
      "displayName": "jules",
      "userId": "12208415302948668058"
     },
     "user_tz": -540
    },
    "id": "BvivGbvtfoFo"
   },
   "outputs": [],
   "source": [
    "movies.original_language.fillna('',inplace = True)\n",
    "# Fill NA of Tagline with empty strings\n",
    "movies.tagline.fillna('',inplace = True)\n",
    "# Fill NA of overview with empty strings\n",
    "movies.overview.fillna('',inplace = True)\n",
    "movies.loc[movies.overview == 'No overview found.','overview'] = ''\n",
    "# Fill NA of runtime with 0\n",
    "movies.runtime.fillna(0,inplace = True)\n",
    "\n",
    "movies.cast = movies.cast.apply(lambda x: x if isinstance(x, list) else [])\n",
    "movies.director.fillna('',inplace = True)\n",
    "movies.keywords = movies.keywords.apply(lambda x: x if isinstance(x, list) else [])\n",
    "\n",
    "# If the release_Date is missing, as of now we're putting the date of 2050-01-01 in order to be able to convert in into datetime object\n",
    "movies.loc[movies['release_date'].isna(),'release_date'] = '2050-01-01'\n",
    "movies.release_date = pd.to_datetime(movies.release_date,format = '%Y-%m-%d')"
   ]
  },
  {
   "cell_type": "code",
   "execution_count": null,
   "metadata": {
    "colab": {
     "base_uri": "https://localhost:8080/",
     "height": 791
    },
    "executionInfo": {
     "elapsed": 15,
     "status": "ok",
     "timestamp": 1648977175003,
     "user": {
      "displayName": "jules",
      "userId": "12208415302948668058"
     },
     "user_tz": -540
    },
    "id": "ljPgnCDCfoDC",
    "outputId": "c786a675-46d3-488e-944e-e66adf9bacfe"
   },
   "outputs": [],
   "source": [
    "movies.head()"
   ]
  },
  {
   "cell_type": "markdown",
   "metadata": {
    "id": "HgeJrLtAgCgB"
   },
   "source": [
    "## Data 처리"
   ]
  },
  {
   "cell_type": "code",
   "execution_count": null,
   "metadata": {
    "colab": {
     "base_uri": "https://localhost:8080/",
     "height": 825
    },
    "executionInfo": {
     "elapsed": 12,
     "status": "ok",
     "timestamp": 1648977175003,
     "user": {
      "displayName": "jules",
      "userId": "12208415302948668058"
     },
     "user_tz": -540
    },
    "id": "QhvBNSwMfoAL",
    "outputId": "75b76a7a-0e48-489e-e8d2-6ba8fc440ecd"
   },
   "outputs": [],
   "source": [
    "# popularity\n",
    "movies[\"popularity\"] = pd.to_numeric(movies[\"popularity\"], downcast=\"float\")\n",
    "movies = movies.sort_values(by='popularity',axis=0, ascending=False)[0:20000].reset_index()\n",
    "movies=movies.drop(['index'], axis=1)\n",
    "movies.head(5)"
   ]
  },
  {
   "cell_type": "code",
   "execution_count": null,
   "metadata": {
    "executionInfo": {
     "elapsed": 10,
     "status": "ok",
     "timestamp": 1648977175003,
     "user": {
      "displayName": "jules",
      "userId": "12208415302948668058"
     },
     "user_tz": -540
    },
    "id": "id2MnqxXfn9k"
   },
   "outputs": [],
   "source": [
    "#overview and taglines 결합\n",
    "movies['plot_corpus'] = movies['overview'] + movies['tagline']\n",
    "\n",
    "def listtostr(txt):\n",
    "    '''\n",
    "    Returns string by joining the elements of the list\n",
    "    '''\n",
    "    \n",
    "    txt_clean = ' '.join([str(elem) for elem in txt])\n",
    "    return txt_clean\n",
    "\n",
    "movies['keywords'] = movies['keywords'].apply(listtostr)\n",
    "movies['genres'] = movies['genres'].apply(listtostr)\n",
    "\n",
    "#movies['plot_corpus_1'] = movies['overview'] + movies['tagline'] + movies['keywords']\n",
    "movies['genre_corpus'] = movies['keywords'] + movies['genres']"
   ]
  },
  {
   "cell_type": "markdown",
   "metadata": {
    "id": "YguPzLt5gjY-"
   },
   "source": [
    "Text 정리\n",
    "\n",
    "점 제거,소문자 변환 등 \n",
    "\n",
    "Lematization: 단어를 기본 형태로 변환하는 과정"
   ]
  },
  {
   "cell_type": "code",
   "execution_count": null,
   "metadata": {
    "executionInfo": {
     "elapsed": 8,
     "status": "ok",
     "timestamp": 1648977175003,
     "user": {
      "displayName": "jules",
      "userId": "12208415302948668058"
     },
     "user_tz": -540
    },
    "id": "zYeN4jE3fn69"
   },
   "outputs": [],
   "source": [
    "def get_wordnet_pos(word):\n",
    "    '''\n",
    "    Returns the tag for the word\n",
    "    '''\n",
    "    tag = nltk.pos_tag([word])[0][1][0].upper()\n",
    "    tag_dict = {\"J\": wordnet.ADJ,\n",
    "                \"N\": wordnet.NOUN,\n",
    "                \"V\": wordnet.VERB,\n",
    "                \"R\": wordnet.ADV}\n",
    "\n",
    "    return tag_dict.get(tag, wordnet.NOUN)\n",
    "\n",
    "lemmatizer=WordNetLemmatizer()\n",
    "\n",
    "def clean_plot(txt):\n",
    "    '''\n",
    "    Returns the cleaned plot text \n",
    "    '''\n",
    "    \n",
    "    regex = re.compile(r\"[!@%&;?'',.\"\"-]\")\n",
    "    txt_clean = re.sub(regex,'',txt)\n",
    "    txt_clean = txt_clean.lower()\n",
    "    txt_clean = txt_clean.split(' ')\n",
    "    txt_clean = [word for word in txt_clean if word not in stopwords.words('english')]\n",
    "    txt_clean = ' '.join(txt_clean)\n",
    "    word_list = nltk.word_tokenize(txt_clean)\n",
    "    txt_clean = ' '.join([lemmatizer.lemmatize(w,get_wordnet_pos(w)) for w in word_list])\n",
    "    return txt_clean\n",
    "\n",
    "def clean_cast(txt):\n",
    "    '''\n",
    "    Returns the cleaned cast string\n",
    "    '''\n",
    "    \n",
    "    for i in range(len(txt)):\n",
    "        txt[i] = re.sub(r\"[.,']\",\"\",txt[i])\n",
    "        txt[i] = re.sub(r\"[-]\",\" \",txt[i])\n",
    "        txt[i] = re.sub(\" \",\"_\",txt[i])\n",
    "        txt[i] = txt[i].lower()\n",
    "    return txt\n",
    "\n",
    "def clean_director(txt):\n",
    "    '''\n",
    "    Returns the cleaned director string\n",
    "    '''\n",
    "    \n",
    "    txt_clean = re.sub(r\"[.,']\",\"\",txt)\n",
    "    txt_clean = re.sub(r\"[-]\",\" \",txt_clean)\n",
    "    txt_clean = re.sub(\" \",\"_\",txt_clean)\n",
    "    txt_clean = txt_clean.lower()\n",
    "    return txt_clean"
   ]
  },
  {
   "cell_type": "code",
   "execution_count": null,
   "metadata": {
    "executionInfo": {
     "elapsed": 325292,
     "status": "ok",
     "timestamp": 1648977500287,
     "user": {
      "displayName": "jules",
      "userId": "12208415302948668058"
     },
     "user_tz": -540
    },
    "id": "HOZXdbt1fn32"
   },
   "outputs": [],
   "source": [
    "movies['plot_corpus'] = movies['plot_corpus'].apply(clean_plot)\n",
    "movies['genre_corpus'] = movies['genre_corpus'].apply(clean_plot)\n",
    "movies['genre_pure'] = movies['genres'].apply(clean_plot)"
   ]
  },
  {
   "cell_type": "code",
   "execution_count": null,
   "metadata": {
    "colab": {
     "base_uri": "https://localhost:8080/"
    },
    "executionInfo": {
     "elapsed": 20,
     "status": "ok",
     "timestamp": 1648977500287,
     "user": {
      "displayName": "jules",
      "userId": "12208415302948668058"
     },
     "user_tz": -540
    },
    "id": "d37iq3dkhENf",
    "outputId": "dace6e8f-60bb-4871-f25e-2c2a90aad782"
   },
   "outputs": [],
   "source": [
    "movies['genre_pure']"
   ]
  },
  {
   "cell_type": "code",
   "execution_count": null,
   "metadata": {
    "executionInfo": {
     "elapsed": 1502,
     "status": "ok",
     "timestamp": 1648977501772,
     "user": {
      "displayName": "jules",
      "userId": "12208415302948668058"
     },
     "user_tz": -540
    },
    "id": "GWOWGMiYhELa"
   },
   "outputs": [],
   "source": [
    "movies['cast'] = movies['cast'].apply(clean_cast)\n",
    "movies['cast'] = movies['cast'].apply(listtostr)\n",
    "movies['director'] = movies['director'].apply(clean_director)"
   ]
  },
  {
   "cell_type": "code",
   "execution_count": null,
   "metadata": {
    "executionInfo": {
     "elapsed": 5,
     "status": "ok",
     "timestamp": 1648977501773,
     "user": {
      "displayName": "jules",
      "userId": "12208415302948668058"
     },
     "user_tz": -540
    },
    "id": "Zo4xbzQChEJD"
   },
   "outputs": [],
   "source": [
    "movies['genre_corpus'] = movies['genre_corpus'] + movies['cast']\n",
    "movies['mixed_corpus'] = movies['genre_corpus'] + movies['plot_corpus']"
   ]
  },
  {
   "cell_type": "markdown",
   "metadata": {
    "id": "hXMPq-b5jKGE"
   },
   "source": [
    "## 벡터화\n",
    "\n",
    "텍스트에 대한 추가 작업을 수행하기 위해서는 수치 기계 학습을 적용할 수 있도록 문서를 벡터 표현으로 변환해야 한다.\n",
    "\n",
    "CountVectorizer: 단어 빈도를 카운트.\n",
    "\n",
    "TfidfVectorizer: 값은 카운트에 비례하여 증가하지만 말뭉치 내의 단어 빈도에 반비례."
   ]
  },
  {
   "cell_type": "code",
   "execution_count": null,
   "metadata": {
    "executionInfo": {
     "elapsed": 11293,
     "status": "ok",
     "timestamp": 1648977513062,
     "user": {
      "displayName": "jules",
      "userId": "12208415302948668058"
     },
     "user_tz": -540
    },
    "id": "4P8n0ickhEGt"
   },
   "outputs": [],
   "source": [
    "tf = TfidfVectorizer(analyzer = 'word', ngram_range = (1,2), min_df = 0, stop_words = 'english')\n",
    "cv = CountVectorizer(analyzer = 'word', ngram_range = (1,2), min_df = 0, stop_words = 'english')\n",
    "\n",
    "plot_vector = tf.fit_transform(movies['plot_corpus'])\n",
    "genre_vector = cv.fit_transform(movies['genre_corpus'])\n",
    "cast_vector = cv.fit_transform(movies['cast'])\n",
    "director_vector = cv.fit_transform(movies['director'])\n",
    "genre_only_vector = cv.fit_transform(movies['genre_pure'])"
   ]
  },
  {
   "cell_type": "markdown",
   "metadata": {
    "id": "VybpYnbijgK_"
   },
   "source": [
    "벡터화된 문서의 유사도 점수를 계산\n",
    "\n",
    "cosine_similarity 이용\n",
    "\n",
    ": 벡터 입력에 대한 쌍별 코사인 유사도 행렬을 반환. 데이터 프레임에 저장될 때 각 행은 다른 모든 동영상에 대한 특정 동영상의 유사성 점수를 나타낸다."
   ]
  },
  {
   "cell_type": "code",
   "execution_count": null,
   "metadata": {
    "id": "0uFM46DWhEEY"
   },
   "outputs": [],
   "source": [
    "from sklearn.metrics.pairwise import cosine_similarity\n",
    "\n",
    "plot_score = cosine_similarity(plot_vector,plot_vector)\n",
    "genre_score = cosine_similarity(genre_vector,genre_vector)\n",
    "cast_score = cosine_similarity(cast_vector,cast_vector)\n",
    "director_score = cosine_similarity(director_vector, director_vector)\n",
    "genre_only_score = cosine_similarity(genre_only_vector,genre_only_vector)\n",
    "\n",
    "plot_score = pd.DataFrame(plot_score)\n",
    "genre_score = pd.DataFrame(genre_score)\n",
    "cast_score = pd.DataFrame(cast_score)\n",
    "director_score = pd.DataFrame(director_score)\n",
    "genre_only_score = pd.DataFrame(genre_only_score)"
   ]
  },
  {
   "cell_type": "markdown",
   "metadata": {
    "id": "KXIhUlSPju4Z"
   },
   "source": [
    "다양한 이용자들이 매긴 시청률의 평균을 계산하면 각 영화가 받은 시청률의 차이 때문에 편향된 결과를 얻을 수 있기 때문에 가중치 평가 공식을 사용한다."
   ]
  },
  {
   "cell_type": "code",
   "execution_count": null,
   "metadata": {
    "id": "XgFKl85bjrVD"
   },
   "outputs": [],
   "source": [
    "vote_counts = movies[movies['vote_count'].notnull()]['vote_count'].astype('int')\n",
    "vote_averages = movies[movies['vote_average'].notnull()]['vote_average'].astype('int')\n",
    "C = vote_averages.mean()\n",
    "m = vote_counts.quantile(0.95)\n",
    "\n",
    "print(C,m)\n",
    "\n",
    "def weighted_rating(x):\n",
    "    v = x['vote_count']\n",
    "    R = x['vote_average']\n",
    "    return (v/(v+m) * R) + (m/(m+v) * C)\n",
    "\n",
    "movies['wr'] = movies.apply(weighted_rating, axis=1)"
   ]
  },
  {
   "cell_type": "markdown",
   "metadata": {
    "id": "inUC1Xu3kCdz"
   },
   "source": [
    "같은 장르에서 비슷한 영화들의 표를 가중평균해서 얻을 수 있고 또한 해당 영화의 인기에 따라 알 수 있다."
   ]
  },
  {
   "cell_type": "code",
   "execution_count": null,
   "metadata": {
    "id": "LF77wUwmjrS-"
   },
   "outputs": [],
   "source": [
    "movies['genres'] = movies['genres'].apply(lambda x : x.split())\n",
    "movies['release_year'] = movies.release_date.apply(lambda x: x.year)"
   ]
  },
  {
   "cell_type": "code",
   "execution_count": null,
   "metadata": {
    "id": "G4__EdonjrQ7"
   },
   "outputs": [],
   "source": [
    "def score(value,index_list,feature):\n",
    "    '''\n",
    "    Returns list of scores for the passed feature\n",
    "    '''\n",
    "    if feature == 'genre':\n",
    "        df_temp = pd.DataFrame(genre_only_score[value])\n",
    "    if feature == 'plot':\n",
    "        df_temp = pd.DataFrame(plot_score[value])\n",
    "    if feature == 'plot_1':\n",
    "        df_temp = pd.DataFrame(plot_score_1[value])\n",
    "    if feature == 'cast':\n",
    "        df_temp = pd.DataFrame(cast_score[value])\n",
    "    if feature == 'director':\n",
    "        df_temp = pd.DataFrame(director_score[value])\n",
    "    df_temp = df_temp.loc[df_temp.index.isin(index_list)]\n",
    "    my_list = df_temp[value].tolist()\n",
    "    return my_list"
   ]
  },
  {
   "cell_type": "markdown",
   "metadata": {
    "id": "O4qAm0aEkJh5"
   },
   "source": [
    "대상 영화에 대한 장르 유사성 점수에 따라 영화를 내림차순으로 배열.\n",
    "\bplot 점수에 근거하여 이전 단계에서 받은 동영상을 클러스터화.\n",
    "\n",
    "모든 유사성 점수(이전 계산)와 계산된 가중 등급을 기준으로 각 클러스터 내에서 동영상을 추가로 정렬(내림차순).\n",
    "\n",
    "각 클러스터의 상위 50개 권장 사항 반환\n"
   ]
  },
  {
   "cell_type": "markdown",
   "metadata": {
    "id": "aOdahO0plqZo"
   },
   "source": [
    "영화 추천"
   ]
  },
  {
   "cell_type": "code",
   "execution_count": null,
   "metadata": {
    "id": "t_2aIKWLjrOB"
   },
   "outputs": [],
   "source": [
    "def get_feature_set(df1,df2,df3,title):\n",
    "    \n",
    "    '''\n",
    "    idx : index value of the target movie\n",
    "    top : index value of top 500 movies(sorted(descending) by genre similarity score w.r.t. target movie)\n",
    "    feature_set : Data frame containing plot score matrix of movies which had their index in \"top\"\n",
    "    movie_set : Name of the movies which had their index in \"top\"\n",
    "    '''   \n",
    "    \n",
    "    idx = movies.index[movies.title == title].values.astype(int)[0]\n",
    "    top = df1[idx].sort_values(ascending = False)[0:500].index.values.tolist()\n",
    "    top = df1[idx].sort_values(ascending = False)[0:500].index.values.tolist()\n",
    "    feature_set = df2[df2.index.isin(top)]\n",
    "    movies_set = pd.DataFrame(movies.loc[movies.index.isin(top),'title'])\n",
    "    return feature_set,movies_set\n",
    "\n",
    "def get_recommendations(title,cluster_num,df1=genre_score,df2=plot_score,df3=cast_score):\n",
    "    \n",
    "    '''\n",
    "    movie_set = dataframe to store the cluster labels(1,2,3) assigned to movies along with their similarity scores and ratings\n",
    "    df_recommend = dataframe with information about the top 50 movies recommended from each cluster\n",
    "    '''\n",
    "    \n",
    "    feature_set,movies_set = get_feature_set(df1,df2,df3,title)\n",
    "    cluster_algo = KMeans(n_clusters=3, init='k-means++', max_iter=300, n_init=10, random_state=42)\n",
    "    cluster = cluster_algo.fit(feature_set)\n",
    "    movies_set['cluster'] = cluster.labels_\n",
    "    index = movies_set.index.values.tolist()\n",
    "    idx = movies.index[movies.title == title].values.astype(int)[0]\n",
    "    movies_set.loc[movies_set.index.isin(index),'wr'] = movies.loc[movies.index.isin(index),'wr']\n",
    "    movies_set.loc[movies_set.index.isin(index),'p_score'] = score(idx,index,'plot')\n",
    "    movies_set.loc[movies_set.index.isin(index),'g_score'] =score(idx,index,'genre')\n",
    "    movies_set.loc[movies_set.index.isin(index),'c_score'] = score(idx,index,'cast')\n",
    "    movies_set.loc[movies_set.index.isin(index),'d_score'] = score(idx,index,'director')\n",
    "    target_cluster = movies_set.loc[movies_set.title == title, 'cluster'].values[0]\n",
    "    if(target_cluster!=0):\n",
    "        movies_set.loc[movies_set.cluster==target_cluster,'cluster'] = 100\n",
    "        movies_set.loc[movies_set.cluster==0,'cluster'] = target_cluster\n",
    "        movies_set.loc[movies_set.cluster==100,'cluster'] = 0\n",
    "    if(cluster_num==1):\n",
    "        recommend_1 = movies_set[movies_set.cluster == 0] \n",
    "        df_recommend = pd.DataFrame(recommend_1.sort_values(['g_score','p_score','c_score','d_score', 'wr'],ascending=[False,False,False,False,False])[1:50].title)\n",
    "    if(cluster_num==2):\n",
    "        recommend_1 = movies_set[movies_set.cluster == 1] \n",
    "        df_recommend = pd.DataFrame(recommend_1.sort_values(['g_score','p_score','c_score','d_score', 'wr'],ascending=[False,False,False,False,False])[1:50].title)\n",
    "    if(cluster_num==3):\n",
    "        recommend_1 = movies_set[movies_set.cluster == 2] \n",
    "        df_recommend = pd.DataFrame(recommend_1.sort_values(['g_score','p_score','c_score','d_score', 'wr'],ascending=[False,False,False,False,False])[1:50].title)\n",
    "    df_recommend.loc[df_recommend.index.isin(index),'genres'] = movies.loc[movies.index.isin(index),'genre_pure']\n",
    "    df_recommend.loc[df_recommend.index.isin(index),'title'] = movies.loc[movies.index.isin(index),'title']\n",
    "    df_recommend.loc[df_recommend.index.isin(index),'director'] = movies.loc[movies.index.isin(index),'director']\n",
    "    df_recommend.loc[df_recommend.index.isin(index),'cast'] = movies.loc[movies.index.isin(index),'cast']\n",
    "    df_recommend.loc[df_recommend.index.isin(index),'ratings'] = movies.loc[movies.index.isin(index),'wr']\n",
    "    df_recommend.loc[df_recommend.index.isin(index),'adult'] = movies.loc[movies.index.isin(index),'adult']\n",
    "    df_recommend['ratings'] = df_recommend['ratings'].round(decimals=2)\n",
    "    return df_recommend"
   ]
  },
  {
   "cell_type": "markdown",
   "metadata": {
    "id": "APtBfbhmlnfs"
   },
   "source": [
    "시각화를 위한 부분"
   ]
  },
  {
   "cell_type": "code",
   "execution_count": null,
   "metadata": {
    "id": "r8NasiaNjrLb"
   },
   "outputs": [],
   "source": [
    "def cluster_class(title,cl_num):\n",
    "    '''\n",
    "    converts each column of the recommendation dataframe into list\n",
    "    '''\n",
    "    df = get_recommendations(title,cluster_num=cl_num)\n",
    "    cast = ' '.join(df.cast.tolist())\n",
    "    genre = ' '.join(df.genres.tolist())\n",
    "    director = ' '.join(df.director.tolist())\n",
    "    ratings = df.ratings.tolist()\n",
    "    return df,cast,director,genre,ratings,cl_num"
   ]
  },
  {
   "cell_type": "code",
   "execution_count": null,
   "metadata": {
    "id": "HFr48HtblsfN"
   },
   "outputs": [],
   "source": [
    "class recommended_cluster:\n",
    "    '''\n",
    "    movies   : A dataframe of movies with other information within a cluster\n",
    "    cast     : A list of cast for the movies within a cluster\n",
    "    director : A list of directors for the movies within a cluster\n",
    "    genre    : A list of genres of the movies within a cluster\n",
    "    ratings  : A list of ratings of the movies within a cluster\n",
    "    \n",
    "    '''\n",
    "   \n",
    "    def __init__(self,cluster_tuple):\n",
    "        self.movies = cluster_tuple[0]\n",
    "        self.cast = cluster_tuple[1]\n",
    "        self.director = cluster_tuple[2]\n",
    "        self.genre = cluster_tuple[3]\n",
    "        self.ratings = cluster_tuple[4]\n",
    "        self.cl_num = cluster_tuple[5]\n",
    "        \n",
    "    def recommended_movie(self):\n",
    "        '''\n",
    "        generates a table containing top 10 recommendations from each cluster along with their corresponding ratings\n",
    "        '''\n",
    "        df = self.movies[0:10]\n",
    "        fig = go.Figure(data=[go.Table(header = dict(values = ['Title','Rating'],\n",
    "                                                     font = dict(size=15),\n",
    "                                                     align = \"center\"),\n",
    "                                       cells = dict(values = [df.title,df.ratings],\n",
    "                                                    align = \"center\")\n",
    "                                      )\n",
    "                             ]\n",
    "                       )\n",
    "        fig.show()    "
   ]
  },
  {
   "cell_type": "code",
   "execution_count": null,
   "metadata": {
    "id": "uWT0Uh__l0A_"
   },
   "outputs": [],
   "source": [
    "def Recommendation_Board(title):\n",
    "    for i in [1,2,3]:\n",
    "        cluster = recommended_cluster(cluster_class(title,i))\n",
    "        cluster.recommended_movie()\n"
   ]
  },
  {
   "cell_type": "code",
   "execution_count": null,
   "metadata": {
    "id": "uuA_Kef2l7ph"
   },
   "outputs": [],
   "source": [
    "Recommendation_Board(\"The Avengers\")"
   ]
  }
 ],
 "metadata": {
  "colab": {
   "authorship_tag": "ABX9TyNCW7v7WLCEKugxL/To14tt",
   "collapsed_sections": [],
   "mount_file_id": "17V_odNI3BYnA-J6lAe_1DpVUbxZ5xqp6",
   "name": "MovieShelf_Movie_Recommendation.ipynb",
   "provenance": [
    {
     "file_id": "1czL9NOd7xqQaGgI-80pY3KAwIfAyDHq0",
     "timestamp": 1648972545761
    }
   ]
  },
  "kernelspec": {
   "display_name": "Python 3",
   "language": "python",
   "name": "python3"
  }
 },
 "nbformat": 4,
 "nbformat_minor": 1
}
